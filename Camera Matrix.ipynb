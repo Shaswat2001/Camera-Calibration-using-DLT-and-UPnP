{
 "cells": [
  {
   "cell_type": "code",
   "execution_count": 1,
   "metadata": {},
   "outputs": [],
   "source": [
    "import numpy as np\n",
    "import matplotlib.pyplot as plt"
   ]
  },
  {
   "cell_type": "code",
   "execution_count": 2,
   "metadata": {},
   "outputs": [],
   "source": [
    "xyz = [[-875, 0, 9.755], [442, 0, 9.755], [1921, 0, 9.755], [2951, 0.5, 9.755], [-4132, 0.5, 23.618],\n",
    "[-876, 0, 23.618]]\n",
    "uv = [[76, 706], [702, 706], [1440, 706], [1867, 706], [264, 523], [625, 523]]"
   ]
  },
  {
   "cell_type": "code",
   "execution_count": 3,
   "metadata": {},
   "outputs": [],
   "source": [
    "control_pt=np.array(xyz)\n",
    "image_pt=np.array(uv)"
   ]
  },
  {
   "cell_type": "code",
   "execution_count": 4,
   "metadata": {},
   "outputs": [],
   "source": [
    "def normalize(point):\n",
    "    mean=np.mean(point,axis=0)\n",
    "    s=2**0.5*point.shape[0]/np.sqrt(np.sum(np.square(point-mean)))\n",
    "    \n",
    "    if point.shape[1]==3:\n",
    "        mat=[[s,0,0,-s*mean[0]],[0,s,0,-s*mean[1]],[0,0,s,-s*mean[2]],[0,0,0,1]]\n",
    "    elif point.shape[1]==2:\n",
    "        mat=[[s,0,-s*mean[0]],[0,s,-s*mean[1]],[0,0,1]]\n",
    "    \n",
    "    mat=np.array(mat)\n",
    "    mat=np.linalg.inv(mat)\n",
    "    comp_arr=np.concatenate((point,np.ones(shape=(point.shape[0],1))),axis=1)\n",
    "    norm=np.dot(comp_arr,mat)\n",
    "    return mat,norm"
   ]
  },
  {
   "cell_type": "code",
   "execution_count": 5,
   "metadata": {},
   "outputs": [],
   "source": [
    "mat_3D,control_pt_norm=normalize(control_pt)\n",
    "#control_pt_norm=control_pt_norm/control_pt_norm[:,-1].reshape(-1,1)\n",
    "control_pt_norm= control_pt_norm[:,:-1]\n",
    "\n",
    "mat_2D,image_pt_norm=normalize(image_pt)\n",
    "#image_pt_norm=image_pt_norm/image_pt_norm[:,-1].reshape(-1,1)\n",
    "image_pt_norm= image_pt_norm[:,:-1]"
   ]
  },
  {
   "cell_type": "code",
   "execution_count": 6,
   "metadata": {},
   "outputs": [],
   "source": [
    "def calculate_dlt(pt_3,pt_2):\n",
    "    A=[]\n",
    "    for i in range(pt_3.shape[0]):\n",
    "        arr1=[-pt_3[i][0],-pt_3[i][1],-pt_3[i][2],-1,0,0,0,0,pt_3[i][0]*pt_2[i][0],pt_3[i][1]*pt_2[i][0],pt_3[i][2]*pt_2[i][0],pt_2[i][0]]\n",
    "        A.append(arr1)\n",
    "        arr1=[0,0,0,0,-pt_3[i][0],-pt_3[i][1],-pt_3[i][2],-1,pt_3[i][0]*pt_2[i][1],pt_3[i][1]*pt_2[i][1],pt_3[i][2]*pt_2[i][1],pt_2[i][1]]\n",
    "        A.append(arr1)\n",
    "    \n",
    "    A=np.array(A)\n",
    "    \n",
    "    U,sigma,V=np.linalg.svd(A)\n",
    "    P=V[-1,:]\n",
    "    H = P.reshape(3, pt_3.shape[1] + 1)\n",
    "    H=np.dot(np.dot(np.linalg.inv(mat_2D),H),mat_3D)\n",
    "    return H,sigma"
   ]
  },
  {
   "cell_type": "code",
   "execution_count": 7,
   "metadata": {},
   "outputs": [],
   "source": [
    "Homo,sigma=calculate_dlt(control_pt_norm,image_pt_norm)"
   ]
  },
  {
   "cell_type": "code",
   "execution_count": 8,
   "metadata": {},
   "outputs": [],
   "source": [
    "pt=np.concatenate((control_pt,np.ones(shape=(control_pt.shape[0],1))),axis=1)"
   ]
  },
  {
   "cell_type": "code",
   "execution_count": 9,
   "metadata": {},
   "outputs": [
    {
     "data": {
      "text/plain": [
       "519.434195005755"
      ]
     },
     "execution_count": 9,
     "metadata": {},
     "output_type": "execute_result"
    }
   ],
   "source": [
    "np.sum(Homo[1]*pt[-1])/np.sum(Homo[-1]*pt[-1])"
   ]
  },
  {
   "cell_type": "code",
   "execution_count": 20,
   "metadata": {},
   "outputs": [],
   "source": [
    "H_inf=Homo[:,:3].reshape(-1,3)\n",
    "h_vec=Homo[:,-1].reshape(-1,1)"
   ]
  },
  {
   "cell_type": "code",
   "execution_count": 24,
   "metadata": {},
   "outputs": [],
   "source": [
    "X_o=np.dot(np.linalg.inv(H_inf),h_vec)"
   ]
  },
  {
   "cell_type": "code",
   "execution_count": 27,
   "metadata": {},
   "outputs": [],
   "source": [
    "R_inv,K_inv=np.linalg.qr(np.linalg.inv(H_inf))"
   ]
  },
  {
   "cell_type": "code",
   "execution_count": 28,
   "metadata": {},
   "outputs": [],
   "source": [
    "R=R_inv.T\n",
    "K=np.linalg.inv(K_inv)\n",
    "K=K/K[-1,-1]"
   ]
  },
  {
   "cell_type": "code",
   "execution_count": 29,
   "metadata": {},
   "outputs": [
    {
     "data": {
      "text/plain": [
       "array([[-1.80240606e+00,  1.03705132e+03,  1.19028284e+03],\n",
       "       [ 0.00000000e+00,  8.10986810e+01,  5.03812935e+02],\n",
       "       [ 0.00000000e+00,  0.00000000e+00,  1.00000000e+00]])"
      ]
     },
     "execution_count": 29,
     "metadata": {},
     "output_type": "execute_result"
    }
   ],
   "source": [
    "K"
   ]
  },
  {
   "cell_type": "code",
   "execution_count": 30,
   "metadata": {},
   "outputs": [
    {
     "data": {
      "text/plain": [
       "array([[-9.99999988e-01,  1.53562549e-04, -3.96416711e-11],\n",
       "       [-1.42174604e-04, -9.25841735e-01, -3.77911447e-01],\n",
       "       [-5.80330818e-05, -3.77911442e-01,  9.25841746e-01]])"
      ]
     },
     "execution_count": 30,
     "metadata": {},
     "output_type": "execute_result"
    }
   ],
   "source": [
    "R"
   ]
  },
  {
   "cell_type": "code",
   "execution_count": null,
   "metadata": {},
   "outputs": [],
   "source": []
  }
 ],
 "metadata": {
  "kernelspec": {
   "display_name": "Python 3",
   "language": "python",
   "name": "python3"
  },
  "language_info": {
   "codemirror_mode": {
    "name": "ipython",
    "version": 3
   },
   "file_extension": ".py",
   "mimetype": "text/x-python",
   "name": "python",
   "nbconvert_exporter": "python",
   "pygments_lexer": "ipython3",
   "version": "3.8.5"
  }
 },
 "nbformat": 4,
 "nbformat_minor": 4
}
