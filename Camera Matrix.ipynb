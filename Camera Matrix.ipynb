{
 "cells": [
  {
   "cell_type": "code",
   "execution_count": 1,
   "metadata": {},
   "outputs": [],
   "source": [
    "import numpy as np\n",
    "import matplotlib.pyplot as plt"
   ]
  },
  {
   "cell_type": "code",
   "execution_count": 2,
   "metadata": {},
   "outputs": [],
   "source": [
    "xyz = [[-875, 0, 9.755], [442, 0, 9.755], [1921, 0, 9.755], [2951, 0.5, 9.755], [-4132, 0.5, 23.618],\n",
    "[-876, 0, 23.618]]\n",
    "uv = [[76, 706], [702, 706], [1440, 706], [1867, 706], [264, 523], [625, 523]]"
   ]
  },
  {
   "cell_type": "code",
   "execution_count": 3,
   "metadata": {},
   "outputs": [],
   "source": [
    "control_pt=np.array(xyz)\n",
    "image_pt=np.array(uv)"
   ]
  },
  {
   "cell_type": "code",
   "execution_count": 4,
   "metadata": {},
   "outputs": [],
   "source": [
    "def normalize(point):\n",
    "    mean=np.mean(point,axis=0)\n",
    "    s=2**0.5*point.shape[0]/np.sqrt(np.sum(np.square(point-mean)))\n",
    "    \n",
    "    if point.shape[1]==3:\n",
    "        mat=[[s,0,0,-s*mean[0]],[0,s,0,-s*mean[1]],[0,0,s,-s*mean[2]],[0,0,0,1]]\n",
    "    elif point.shape[1]==2:\n",
    "        mat=[[s,0,-s*mean[0]],[0,s,-s*mean[1]],[0,0,1]]\n",
    "    \n",
    "    mat=np.array(mat)\n",
    "    mat=np.linalg.inv(mat)\n",
    "    comp_arr=np.concatenate((point,np.ones(shape=(point.shape[0],1))),axis=1)\n",
    "    norm=np.dot(comp_arr,mat)\n",
    "    return mat,norm"
   ]
  },
  {
   "cell_type": "code",
   "execution_count": 5,
   "metadata": {},
   "outputs": [],
   "source": [
    "mat_3D,control_pt_norm=normalize(control_pt)\n",
    "#control_pt_norm=control_pt_norm/control_pt_norm[:,-1].reshape(-1,1)\n",
    "control_pt_norm= control_pt_norm[:,:-1]\n",
    "\n",
    "mat_2D,image_pt_norm=normalize(image_pt)\n",
    "#image_pt_norm=image_pt_norm/image_pt_norm[:,-1].reshape(-1,1)\n",
    "image_pt_norm= image_pt_norm[:,:-1]"
   ]
  },
  {
   "cell_type": "code",
   "execution_count": 6,
   "metadata": {},
   "outputs": [],
   "source": [
    "def calculate_dlt(pt_3,pt_2):\n",
    "    A=[]\n",
    "    for i in range(pt_3.shape[0]):\n",
    "        arr1=[-pt_3[i][0],-pt_3[i][1],-pt_3[i][2],-1,0,0,0,0,pt_3[i][0]*pt_2[i][0],pt_3[i][1]*pt_2[i][0],pt_3[i][2]*pt_2[i][0],pt_2[i][0]]\n",
    "        A.append(arr1)\n",
    "        arr1=[0,0,0,0,-pt_3[i][0],-pt_3[i][1],-pt_3[i][2],-1,pt_3[i][0]*pt_2[i][1],pt_3[i][1]*pt_2[i][1],pt_3[i][2]*pt_2[i][1],pt_2[i][1]]\n",
    "        A.append(arr1)\n",
    "    \n",
    "    A=np.array(A)\n",
    "    \n",
    "    U,sigma,V=np.linalg.svd(A)\n",
    "    P=V[-1,:]\n",
    "    H = P.reshape(3, pt_3.shape[1] + 1)\n",
    "    H=np.dot(np.dot(np.linalg.inv(mat_2D),H),mat_3D)\n",
    "    return H,sigma"
   ]
  },
  {
   "cell_type": "code",
   "execution_count": 7,
   "metadata": {},
   "outputs": [],
   "source": [
    "Homo,sigma=calculate_dlt(control_pt_norm,image_pt_norm)"
   ]
  },
  {
   "cell_type": "code",
   "execution_count": 8,
   "metadata": {},
   "outputs": [],
   "source": [
    "pt=np.concatenate((control_pt,np.ones(shape=(control_pt.shape[0],1))),axis=1)"
   ]
  },
  {
   "cell_type": "code",
   "execution_count": 9,
   "metadata": {},
   "outputs": [
    {
     "data": {
      "text/plain": [
       "519.434195005755"
      ]
     },
     "execution_count": 9,
     "metadata": {},
     "output_type": "execute_result"
    }
   ],
   "source": [
    "np.sum(Homo[1]*pt[-1])/np.sum(Homo[-1]*pt[-1])"
   ]
  },
  {
   "cell_type": "code",
   "execution_count": 10,
   "metadata": {},
   "outputs": [],
   "source": [
    "H_inf=Homo[:,:3].reshape(-1,3)\n",
    "h_vec=Homo[:,-1].reshape(-1,1)"
   ]
  },
  {
   "cell_type": "code",
   "execution_count": 11,
   "metadata": {},
   "outputs": [],
   "source": [
    "X_o=np.dot(np.linalg.inv(H_inf),h_vec)"
   ]
  },
  {
   "cell_type": "code",
   "execution_count": 12,
   "metadata": {},
   "outputs": [],
   "source": [
    "R_inv,K_inv=np.linalg.qr(np.linalg.inv(H_inf))"
   ]
  },
  {
   "cell_type": "code",
   "execution_count": 13,
   "metadata": {},
   "outputs": [],
   "source": [
    "R=R_inv.T\n",
    "K=np.linalg.inv(K_inv)\n",
    "K=K/K[-1,-1]"
   ]
  },
  {
   "cell_type": "code",
   "execution_count": 14,
   "metadata": {},
   "outputs": [],
   "source": [
    "H_inf_inv=np.linalg.inv(H_inf)"
   ]
  },
  {
   "cell_type": "code",
   "execution_count": 36,
   "metadata": {},
   "outputs": [],
   "source": [
    "U_mat=np.zeros_like(H_inf_inv)\n",
    "U_mat[:,0]=H_inf_inv[:,0]\n",
    "for i in range(1,H_inf_inv.shape[1]):\n",
    "    proj=np.dot(U_mat[:,:i].T,H_inf_inv[:,i].reshape(-1,1))\n",
    "    proj=np.multiply(proj.T,U_mat[:,:i])/np.sum(U_mat[:,:i]**2,axis=0)\n",
    "    U_mat[:,i]=H_inf_inv[:,i]-np.sum(proj,axis=1)\n",
    "Q=U_mat/np.sqrt(np.sum(U_mat**2,axis=0))\n",
    "R=np.dot(Q.T,H_inf_inv)"
   ]
  },
  {
   "cell_type": "code",
   "execution_count": 39,
   "metadata": {},
   "outputs": [
    {
     "data": {
      "text/plain": [
       "array([[ 5.77031464e+05, -7.37880360e+06,  3.03070605e+09],\n",
       "       [-1.64655597e-08,  1.28244380e+04, -6.46111776e+06],\n",
       "       [-2.67439754e-07,  4.48627120e-06,  1.04004501e+06]])"
      ]
     },
     "execution_count": 39,
     "metadata": {},
     "output_type": "execute_result"
    }
   ],
   "source": [
    "R"
   ]
  },
  {
   "cell_type": "code",
   "execution_count": 17,
   "metadata": {},
   "outputs": [
    {
     "data": {
      "text/plain": [
       "array([[ 5.77031464e+05, -7.37880360e+06,  3.03070605e+09],\n",
       "       [ 0.00000000e+00, -1.28244380e+04,  6.46111776e+06],\n",
       "       [ 0.00000000e+00,  0.00000000e+00, -1.04004501e+06]])"
      ]
     },
     "execution_count": 17,
     "metadata": {},
     "output_type": "execute_result"
    }
   ],
   "source": [
    "K_inv"
   ]
  },
  {
   "cell_type": "code",
   "execution_count": 37,
   "metadata": {},
   "outputs": [
    {
     "data": {
      "text/plain": [
       "array([[-9.99999988e-01,  1.42174604e-04,  5.80330823e-05],\n",
       "       [ 1.53562549e-04,  9.25841735e-01,  3.77911443e-01],\n",
       "       [-3.96416711e-11,  3.77911447e-01, -9.25841746e-01]])"
      ]
     },
     "execution_count": 37,
     "metadata": {},
     "output_type": "execute_result"
    }
   ],
   "source": [
    "Q"
   ]
  },
  {
   "cell_type": "code",
   "execution_count": 38,
   "metadata": {},
   "outputs": [
    {
     "data": {
      "text/plain": [
       "array([[-9.99999988e-01, -1.42174604e-04, -5.80330818e-05],\n",
       "       [ 1.53562549e-04, -9.25841735e-01, -3.77911442e-01],\n",
       "       [-3.96416711e-11, -3.77911447e-01,  9.25841746e-01]])"
      ]
     },
     "execution_count": 38,
     "metadata": {},
     "output_type": "execute_result"
    }
   ],
   "source": [
    "R_inv"
   ]
  },
  {
   "cell_type": "code",
   "execution_count": 40,
   "metadata": {},
   "outputs": [
    {
     "data": {
      "text/plain": [
       "array([[-5.77031457e+05,  7.37880534e+06, -3.03070687e+09],\n",
       "       [ 8.86104225e+01,  1.07402920e+04, -5.12352462e+06],\n",
       "       [-2.28744915e-05,  4.84650222e+03, -3.40464757e+06]])"
      ]
     },
     "execution_count": 40,
     "metadata": {},
     "output_type": "execute_result"
    }
   ],
   "source": [
    "H_inf_inv"
   ]
  },
  {
   "cell_type": "code",
   "execution_count": 41,
   "metadata": {},
   "outputs": [
    {
     "data": {
      "text/plain": [
       "array([[-4.25780185e+12]])"
      ]
     },
     "execution_count": 41,
     "metadata": {},
     "output_type": "execute_result"
    }
   ],
   "source": [
    "np.dot(U_mat[:,:1].T,H_inf_inv[:,1].reshape(-1,1))"
   ]
  },
  {
   "cell_type": "code",
   "execution_count": null,
   "metadata": {},
   "outputs": [],
   "source": []
  },
  {
   "cell_type": "code",
   "execution_count": null,
   "metadata": {},
   "outputs": [],
   "source": []
  }
 ],
 "metadata": {
  "kernelspec": {
   "display_name": "Python 3",
   "language": "python",
   "name": "python3"
  },
  "language_info": {
   "codemirror_mode": {
    "name": "ipython",
    "version": 3
   },
   "file_extension": ".py",
   "mimetype": "text/x-python",
   "name": "python",
   "nbconvert_exporter": "python",
   "pygments_lexer": "ipython3",
   "version": "3.8.5"
  }
 },
 "nbformat": 4,
 "nbformat_minor": 4
}
